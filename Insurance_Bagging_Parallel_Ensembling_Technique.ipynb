{
  "nbformat": 4,
  "nbformat_minor": 0,
  "metadata": {
    "colab": {
      "provenance": []
    },
    "kernelspec": {
      "name": "python3",
      "display_name": "Python 3"
    },
    "language_info": {
      "name": "python"
    }
  },
  "cells": [
    {
      "cell_type": "code",
      "execution_count": null,
      "metadata": {
        "colab": {
          "base_uri": "https://localhost:8080/"
        },
        "id": "U1CGn1vyFRte",
        "outputId": "b0e9872d-28a7-4b8e-d74f-2e8efe7a00fa"
      },
      "outputs": [
        {
          "output_type": "stream",
          "name": "stdout",
          "text": [
            "Mounted at /content/drive\n"
          ]
        }
      ],
      "source": [
        "from google.colab import drive\n",
        "drive.mount('/content/drive')\n",
        "path='/content/drive/MyDrive/insurance.csv'"
      ]
    },
    {
      "cell_type": "markdown",
      "source": [
        "Using Bagging model,I predicted the insurance premium for the\n",
        "members of a county with 75% score.\n"
      ],
      "metadata": {
        "id": "ztnTdYydDghs"
      }
    },
    {
      "cell_type": "code",
      "source": [
        "import pandas as pd\n",
        "import numpy as np\n",
        "import seaborn as sns\n",
        "import matplotlib.pyplot as plt\n",
        "from sklearn.model_selection import train_test_split\n",
        "from sklearn.ensemble import BaggingRegressor"
      ],
      "metadata": {
        "id": "qk_qjFG0MUsU"
      },
      "execution_count": null,
      "outputs": []
    },
    {
      "cell_type": "code",
      "source": [
        "df=pd.read_csv(path)\n",
        "print(df.head())"
      ],
      "metadata": {
        "colab": {
          "base_uri": "https://localhost:8080/"
        },
        "id": "G2rJhaKzMYxo",
        "outputId": "c8b6cb8a-8b51-4b32-ff97-3489281e1f48"
      },
      "execution_count": null,
      "outputs": [
        {
          "output_type": "stream",
          "name": "stdout",
          "text": [
            "   age     sex     bmi  children smoker     region      charges\n",
            "0   19  female  27.900         0    yes  southwest  16884.92400\n",
            "1   18    male  33.770         1     no  southeast   1725.55230\n",
            "2   28    male  33.000         3     no  southeast   4449.46200\n",
            "3   33    male  22.705         0     no  northwest  21984.47061\n",
            "4   32    male  28.880         0     no  northwest   3866.85520\n"
          ]
        }
      ]
    },
    {
      "cell_type": "code",
      "source": [
        "for i in df.columns:\n",
        "  print(df[i].isnull().sum())"
      ],
      "metadata": {
        "colab": {
          "base_uri": "https://localhost:8080/"
        },
        "id": "qiiEs8BAuDte",
        "outputId": "7220ac3a-d014-4949-fdb3-bd4e0082ec99"
      },
      "execution_count": null,
      "outputs": [
        {
          "output_type": "stream",
          "name": "stdout",
          "text": [
            "0\n",
            "0\n",
            "0\n",
            "0\n",
            "0\n",
            "0\n",
            "0\n"
          ]
        }
      ]
    },
    {
      "cell_type": "code",
      "source": [
        "df_numeric=df.select_dtypes(include='number')\n",
        "df_numeric=df_numeric.drop('charges',axis=1)"
      ],
      "metadata": {
        "id": "ipxqtdCGuNtv"
      },
      "execution_count": null,
      "outputs": []
    },
    {
      "cell_type": "code",
      "source": [
        "def visualize_boxplot(column_name):\n",
        "  sns.boxplot(data=df_numeric,x=df_numeric[column_name])\n",
        "  plt.show()"
      ],
      "metadata": {
        "id": "UOmxxj8cubO3"
      },
      "execution_count": null,
      "outputs": []
    },
    {
      "cell_type": "code",
      "source": [
        "for i in df_numeric.columns:\n",
        "  visualize_boxplot(i)"
      ],
      "metadata": {
        "colab": {
          "base_uri": "https://localhost:8080/",
          "height": 1000
        },
        "id": "3KXyTfNJuskI",
        "outputId": "86bf60f0-045f-4a01-9a29-8fbc99ca2a05"
      },
      "execution_count": null,
      "outputs": [
        {
          "output_type": "display_data",
          "data": {
            "text/plain": [
              "<Figure size 640x480 with 1 Axes>"
            ],
            "image/png": "[encoded data removed]"
          },
          "metadata": {}
        },
        {
          "output_type": "display_data",
          "data": {
            "text/plain": [
              "<Figure size 640x480 with 1 Axes>"
            ],
            "image/png": "[encoded data removed]"
          },
          "metadata": {}
        },
        {
          "output_type": "display_data",
          "data": {
            "text/plain": [
              "<Figure size 640x480 with 1 Axes>"
            ],
            "image/png": "[encoded data removed]"
          },
          "metadata": {}
        }
      ]
    },
    {
      "cell_type": "code",
      "source": [
        "#Only bmi column has outliers\n",
        "q1=df_numeric['bmi'].quantile(0.25)\n",
        "q3=df_numeric['bmi'].quantile(0.75)\n",
        "iqr=q3-q1\n",
        "lower_lim=q1-(1.5*iqr)\n",
        "upper_lim=q3+(1.5*iqr)\n",
        "for i in df['bmi']:\n",
        "  if i<lower_lim:\n",
        "    df_numeric['bmi']=df_numeric['bmi'].replace(i,lower_lim)\n",
        "  if i>upper_lim:\n",
        "    df_numeric['bmi']=df_numeric['bmi'].replace(i,upper_lim)"
      ],
      "metadata": {
        "id": "6bJbLaOr-JiB"
      },
      "execution_count": null,
      "outputs": []
    },
    {
      "cell_type": "code",
      "source": [
        "sns.boxplot(data=df_numeric,x=df_numeric['bmi'])"
      ],
      "metadata": {
        "colab": {
          "base_uri": "https://localhost:8080/",
          "height": 466
        },
        "id": "kBJMFxwA_CGD",
        "outputId": "377cd943-7caa-4c8b-a241-7e47ba57f335"
      },
      "execution_count": null,
      "outputs": [
        {
          "output_type": "execute_result",
          "data": {
            "text/plain": [
              "<Axes: xlabel='bmi'>"
            ]
          },
          "metadata": {},
          "execution_count": 9
        },
        {
          "output_type": "display_data",
          "data": {
            "text/plain": [
              "<Figure size 640x480 with 1 Axes>"
            ],
            "image/png": "[encoded data removed]"
          },
          "metadata": {}
        }
      ]
    },
    {
      "cell_type": "code",
      "source": [
        "y=df['charges']"
      ],
      "metadata": {
        "id": "Bf7rbsjxOTRO"
      },
      "execution_count": null,
      "outputs": []
    },
    {
      "cell_type": "code",
      "source": [
        "for i in df.columns:\n",
        "  if df[i].dtype!='object':\n",
        "    df=df.drop(i,axis=1)\n",
        "df=pd.concat([df,df_numeric],axis=1)"
      ],
      "metadata": {
        "id": "z8Mdilsy_ley"
      },
      "execution_count": null,
      "outputs": []
    },
    {
      "cell_type": "code",
      "source": [
        "df=pd.get_dummies(df,drop_first=True)"
      ],
      "metadata": {
        "id": "I6IlpUBJAXNX"
      },
      "execution_count": null,
      "outputs": []
    },
    {
      "cell_type": "code",
      "source": [
        "X=df\n",
        "print(X.head())"
      ],
      "metadata": {
        "colab": {
          "base_uri": "https://localhost:8080/"
        },
        "id": "pcs9dGpPOIUc",
        "outputId": "9eb3c67a-a464-4d80-9121-06dc19710b41"
      },
      "execution_count": null,
      "outputs": [
        {
          "output_type": "stream",
          "name": "stdout",
          "text": [
            "   age     bmi  children  sex_male  smoker_yes  region_northwest  \\\n",
            "0   19  27.900         0         0           1                 0   \n",
            "1   18  33.770         1         1           0                 0   \n",
            "2   28  33.000         3         1           0                 0   \n",
            "3   33  22.705         0         1           0                 1   \n",
            "4   32  28.880         0         1           0                 1   \n",
            "\n",
            "   region_southeast  region_southwest  \n",
            "0                 0                 1  \n",
            "1                 1                 0  \n",
            "2                 1                 0  \n",
            "3                 0                 0  \n",
            "4                 0                 0  \n"
          ]
        }
      ]
    },
    {
      "cell_type": "code",
      "source": [
        "X_train,X_test,y_train,y_test=train_test_split(X,y,test_size=0.3,random_state=42)"
      ],
      "metadata": {
        "id": "If2ValgYOZ3F"
      },
      "execution_count": null,
      "outputs": []
    },
    {
      "cell_type": "code",
      "source": [
        "model=BaggingRegressor(bootstrap=True,bootstrap_features=True,oob_score=True,n_estimators=100,max_samples=0.67).fit(X_train,y_train)"
      ],
      "metadata": {
        "id": "lEHdDInVPPiL"
      },
      "execution_count": null,
      "outputs": []
    },
    {
      "cell_type": "code",
      "source": [
        "training_score=model.score(X_train,y_train)\n",
        "print(training_score)"
      ],
      "metadata": {
        "colab": {
          "base_uri": "https://localhost:8080/"
        },
        "id": "8fFNYtDAPnCs",
        "outputId": "76df93bc-ffc6-4cb8-d78b-6ec054316d49"
      },
      "execution_count": null,
      "outputs": [
        {
          "output_type": "stream",
          "name": "stdout",
          "text": [
            "0.8983157919954131\n"
          ]
        }
      ]
    },
    {
      "cell_type": "code",
      "source": [
        "testing_score=model.score(X_test,y_test)\n",
        "print(testing_score)"
      ],
      "metadata": {
        "colab": {
          "base_uri": "https://localhost:8080/"
        },
        "id": "m2oO5YYePwEy",
        "outputId": "9d6a6494-8d41-4d9e-d660-49bf3effd2cc"
      },
      "execution_count": null,
      "outputs": [
        {
          "output_type": "stream",
          "name": "stdout",
          "text": [
            "0.747181132361687\n"
          ]
        }
      ]
    }
  ]
}